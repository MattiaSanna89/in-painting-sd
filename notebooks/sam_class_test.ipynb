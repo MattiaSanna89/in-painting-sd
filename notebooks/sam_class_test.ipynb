{
 "cells": [
  {
   "cell_type": "code",
   "execution_count": 1,
   "metadata": {},
   "outputs": [],
   "source": [
    "import cv2\n",
    "import time\n",
    "import numpy as np\n",
    "from PIL import Image\n",
    "import matplotlib.pyplot as plt\n",
    "\n",
    "from segmentation import Sam2HF"
   ]
  },
  {
   "cell_type": "code",
   "execution_count": 2,
   "metadata": {},
   "outputs": [],
   "source": [
    "mask_gen = Sam2HF()"
   ]
  },
  {
   "cell_type": "code",
   "execution_count": null,
   "metadata": {},
   "outputs": [],
   "source": [
    "image = Image.open(\"no-smile-1024.png\")\n",
    "image = np.array(image.convert(\"RGB\"))\n",
    "\n",
    "plt.figure(figsize=(5, 5))\n",
    "plt.imshow(image)\n",
    "plt.axis('off')\n",
    "plt.show()"
   ]
  },
  {
   "cell_type": "code",
   "execution_count": 4,
   "metadata": {},
   "outputs": [],
   "source": [
    "# Initialize global variables\n",
    "clicked = []\n",
    "labels = []\n",
    "rectangles = []\n",
    "mode = 'point'  # Default mode\n",
    "ix, iy = -1, -1\n",
    "drawing = False\n",
    "last_point_time = 0  # To keep track of the last point creation time\n",
    "delay = 0.2  # Time delay in seconds\n",
    " \n",
    "# Mouse callback function\n",
    "def draw(event, x, y, flags, param):\n",
    "    global ix, iy, drawing, rectangles, clicked, labels, mode, last_point_time\n",
    " \n",
    "    current_time = time.time()\n",
    "     \n",
    "    if mode == 'point':\n",
    "        if event == cv2.EVENT_LBUTTONDOWN:\n",
    "            clicked.append([x, y])\n",
    "            labels.append(1)\n",
    "            cv2.circle(show_image, (x, y), 5, (0, 255, 0), -1)\n",
    "            cv2.imshow('image', show_image)\n",
    "        elif event == cv2.EVENT_MBUTTONDOWN:\n",
    "            clicked.append([x, y])\n",
    "            labels.append(0)\n",
    "            cv2.circle(show_image, (x, y), 5, (0, 0, 255), -1)\n",
    "            cv2.imshow('image', show_image)\n",
    "        elif event == cv2.EVENT_MOUSEMOVE:\n",
    "            if flags & cv2.EVENT_FLAG_LBUTTON:\n",
    "                if current_time - last_point_time >= delay:\n",
    "                    clicked.append([x, y])\n",
    "                    labels.append(1)\n",
    "                    cv2.circle(show_image, (x, y), 5, (0, 255, 0), -1)\n",
    "                    cv2.imshow('image', show_image)\n",
    "                    last_point_time = current_time\n",
    "    elif mode == 'rectangle':\n",
    "        if event == cv2.EVENT_LBUTTONDOWN:\n",
    "            drawing = True\n",
    "            ix, iy = x, y\n",
    "        elif event == cv2.EVENT_MOUSEMOVE:\n",
    "            if drawing:\n",
    "                img = show_image.copy()\n",
    "                cv2.rectangle(img, (ix, iy), (x, y), (0, 255, 0), 2)\n",
    "                cv2.imshow('image', img)\n",
    "        elif event == cv2.EVENT_LBUTTONUP:\n",
    "            drawing = False\n",
    "            cv2.rectangle(show_image, (ix, iy), (x, y), (0, 255, 0), 2)\n",
    "            cv2.imshow('image', show_image)\n",
    "            rectangles.append([ix, iy, x, y])"
   ]
  },
  {
   "cell_type": "code",
   "execution_count": null,
   "metadata": {},
   "outputs": [],
   "source": [
    "# Load an image\n",
    "cv2.namedWindow('image')\n",
    "cv2.setMouseCallback('image', draw)\n",
    "image = Image.open(\"no-smile-1024.png\")\n",
    "show_image = np.array(image)\n",
    "# Press 'p' to switch to point mode, 'r' to switch to rectangle mode, 'q' to quit\n",
    "while True:\n",
    "    cv2.imshow('image', show_image)\n",
    "    key = cv2.waitKey(1) & 0xFF\n",
    "    if key == ord('p'):\n",
    "        mode = 'point'\n",
    "        print(\"Switched to point mode\")\n",
    "    elif key == ord('r'):\n",
    "        mode = 'rectangle'\n",
    "        print(\"Switched to rectangle mode\")\n",
    "    elif key == ord('q'):\n",
    "        break\n",
    " \n",
    "cv2.destroyAllWindows()"
   ]
  },
  {
   "cell_type": "code",
   "execution_count": 6,
   "metadata": {},
   "outputs": [],
   "source": [
    "input_point = np.array(clicked)\n",
    "input_label = np.array(labels)\n",
    "input_rectangles = np.array(rectangles)"
   ]
  },
  {
   "cell_type": "code",
   "execution_count": 7,
   "metadata": {},
   "outputs": [],
   "source": [
    "image_array = np.array(image.convert(\"RGB\"))\n",
    "masks, scores, unkn = mask_gen.generate_masks_from_prompt(\n",
    "    image_array, input_points=input_point, input_labels=input_label, input_rectangles=input_rectangles)"
   ]
  },
  {
   "cell_type": "code",
   "execution_count": 8,
   "metadata": {},
   "outputs": [],
   "source": [
    "rgb_mask = Sam2HF.get_rgba_mask(masks=masks, borders=True)"
   ]
  },
  {
   "cell_type": "code",
   "execution_count": 9,
   "metadata": {},
   "outputs": [],
   "source": [
    "cv2.imshow('Image', rgb_mask)\n",
    "cv2.waitKey(0)\n",
    "cv2.destroyAllWindows()"
   ]
  },
  {
   "cell_type": "code",
   "execution_count": 10,
   "metadata": {},
   "outputs": [],
   "source": [
    "final_image = Sam2HF.image_overlay(image_array, rgb_mask)\n",
    "cv2.imshow('Image', final_image)\n",
    "cv2.waitKey(0)\n",
    "cv2.destroyAllWindows()"
   ]
  },
  {
   "cell_type": "code",
   "execution_count": 11,
   "metadata": {},
   "outputs": [],
   "source": [
    "rgb_mask_bw = np.where(rgb_mask != np.array([0., 0., 0., 0.]), np.array([1., 1., 1., 1.]), rgb_mask)"
   ]
  },
  {
   "cell_type": "code",
   "execution_count": 33,
   "metadata": {},
   "outputs": [],
   "source": [
    "cv2.imshow('Image', rgb_mask_bw)\n",
    "cv2.waitKey(0)\n",
    "cv2.destroyAllWindows()"
   ]
  },
  {
   "cell_type": "code",
   "execution_count": 12,
   "metadata": {},
   "outputs": [],
   "source": [
    "rgba_array = (rgb_mask_bw * 255).astype(np.uint8)"
   ]
  },
  {
   "cell_type": "code",
   "execution_count": 13,
   "metadata": {},
   "outputs": [],
   "source": [
    "pil_mask = Image.fromarray(rgba_array, 'RGBA')"
   ]
  },
  {
   "cell_type": "code",
   "execution_count": null,
   "metadata": {},
   "outputs": [],
   "source": [
    "pil_mask.show()"
   ]
  },
  {
   "cell_type": "code",
   "execution_count": null,
   "metadata": {},
   "outputs": [],
   "source": [
    "pil_mask.convert(\"RGB\")"
   ]
  }
 ],
 "metadata": {
  "kernelspec": {
   "display_name": "im_env",
   "language": "python",
   "name": "python3"
  },
  "language_info": {
   "codemirror_mode": {
    "name": "ipython",
    "version": 3
   },
   "file_extension": ".py",
   "mimetype": "text/x-python",
   "name": "python",
   "nbconvert_exporter": "python",
   "pygments_lexer": "ipython3",
   "version": "3.12.8"
  }
 },
 "nbformat": 4,
 "nbformat_minor": 2
}
